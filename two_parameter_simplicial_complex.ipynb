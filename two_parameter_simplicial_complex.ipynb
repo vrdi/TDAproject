{
 "cells": [
  {
   "cell_type": "code",
   "execution_count": 2,
   "metadata": {
    "collapsed": false
   },
   "outputs": [],
   "source": [
    "import numpy as np\n",
    "import gudhi as gd\n",
    "import networkx as nx\n",
    "from scipy.spatial.distance import pdist, squareform\n",
    "from bisect import bisect_left, bisect_right\n",
    "import matplotlib.pyplot as plt"
   ]
  },
  {
   "cell_type": "code",
   "execution_count": 3,
   "metadata": {
    "collapsed": false
   },
   "outputs": [],
   "source": [
    "def build_filtration(num_vertices, dist_mat_e, dist_mat_f, filtration_values, use_G=False, G=nx.Graph()):\n",
    "    filtration = []\n",
    "    \n",
    "    num_filtrations = len(filtration_values)-1\n",
    "    e_filtrations = [v[0] for v in filtration_values]\n",
    "    f_filtrations = [v[1] for v in filtration_values]\n",
    "    \n",
    "    temp_G = nx.Graph()\n",
    "    \n",
    "    edge_tuples = np.nonzero(np.triu(dist_mat_e <= e_filtrations[-1]))\n",
    "    for edge_idx in range(len(edge_tuples[0])):\n",
    "        i, j = edge_tuples[0][edge_idx], edge_tuples[1][edge_idx]\n",
    "        filtration_step_e = bisect_right(e_filtrations, dist_mat_e[i][j])-1\n",
    "        if not use_G or (use_G and G.has_edge(i,j)):\n",
    "            filtration.append(([i,j], filtration_step_e))\n",
    "            temp_G.add_edge(i,j)\n",
    "            \n",
    "    face_potential_pairs = np.nonzero(np.triu(dist_mat_e <= f_filtrations[-1]))\n",
    "    G_face = nx.Graph()\n",
    "    G_face.add_edges_from(list(zip(face_potential_pairs[0], face_potential_pairs[1])))\n",
    "    triangles = [clique for clique in nx.find_cliques(G_face) if len(clique)==3]\n",
    "    for triangle in triangles:\n",
    "        i,j,k = triangle[0], triangle[1], triangle[2]\n",
    "        temp_G_has_triangle = temp_G.has_edge(i,j) and temp_G.has_edge(j,k) and temp_G.has_edge(i,k)\n",
    "        if temp_G_has_triangle:\n",
    "            face_distance = max(dist_mat_f[i][j], dist_mat_f[i][k], dist_mat_f[j][k])\n",
    "            filtration_step_f = bisect_right(f_filtrations, face_distance)-1\n",
    "            G_has_triangle = G.has_edge(i,j) and G.has_edge(j,k) and G.has_edge(i,k)\n",
    "            if not use_G or (use_G and G_has_triangle):\n",
    "                filtration.append(([i,j,k], filtration_step_f))\n",
    "                \n",
    "    return filtration\n",
    "    "
   ]
  },
  {
   "cell_type": "code",
   "execution_count": 4,
   "metadata": {
    "collapsed": false
   },
   "outputs": [],
   "source": [
    "## Test case: randomly sampled circle with 3 points\n",
    "num_pts = 100\n",
    "theta = np.linspace(0,2*np.pi, num_pts)\n",
    "r = np.random.rand(num_pts)\n",
    "x, y = r * np.cos(theta), r * np.sin(theta)\n",
    "pt_cloud = np.asarray(list(zip(x,y)))\n",
    "\n",
    "dist_e = squareform(pdist(pt_cloud))\n",
    "dist_f = squareform(pdist(pt_cloud))\n",
    "\n",
    "filtration_values = [(0,0), (.01, .02), (.04,.03), (.05,.08), (.1,.1)]\n",
    "\n",
    "filtration = build_filtration(num_pts, dist_e, dist_f, filtration_values)"
   ]
  },
  {
   "cell_type": "code",
   "execution_count": null,
   "metadata": {
    "collapsed": false
   },
   "outputs": [],
   "source": [
    "#Computer Persistence\n",
    "\n",
    "sp_cpx = gd.SimplexTree()\n",
    "\n",
    "for f in filtration:\n",
    "    sp_cpx.insert(f[0],f[1])\n",
    "\n",
    "sp_cpx.make_filtration_non_decreasing()\n",
    "\n",
    "#Barcodes = sp_cpx.persistence()\n",
    "\n",
    "#fig = plt.figure(figsize = (10,5))\n",
    "\n",
    "#fig.add_subplot(1,2,1)\n",
    "#plt.plot(x,y)\n",
    "\n",
    "#fig.add_subplot(1,2,2)\n",
    "#gd.plot_persistence_diagram(sp_cpx.persistence())\n",
    "#plt.show()"
   ]
  },
  {
   "cell_type": "code",
   "execution_count": null,
   "metadata": {
    "collapsed": true
   },
   "outputs": [],
   "source": []
  }
 ],
 "metadata": {
  "anaconda-cloud": {},
  "kernelspec": {
   "display_name": "Python [conda env:vrdi2019]",
   "language": "python",
   "name": "conda-env-vrdi2019-py"
  },
  "language_info": {
   "codemirror_mode": {
    "name": "ipython",
    "version": 3
   },
   "file_extension": ".py",
   "mimetype": "text/x-python",
   "name": "python",
   "nbconvert_exporter": "python",
   "pygments_lexer": "ipython3",
   "version": "3.7.3"
  }
 },
 "nbformat": 4,
 "nbformat_minor": 1
}
